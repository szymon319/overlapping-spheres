{
  "nbformat": 4,
  "nbformat_minor": 0,
  "metadata": {
    "colab": {
      "name": "spheres.ipynb",
      "provenance": [],
      "collapsed_sections": []
    },
    "kernelspec": {
      "name": "python3",
      "display_name": "Python 3"
    }
  },
  "cells": [
    {
      "cell_type": "markdown",
      "metadata": {
        "id": "0sHk4O080bTu"
      },
      "source": [
        "# environment"
      ]
    },
    {
      "cell_type": "code",
      "metadata": {
        "colab": {
          "base_uri": "https://localhost:8080/"
        },
        "id": "yFY9DrB74lML",
        "outputId": "5f8714c3-03df-4152-bd42-f9aea350afd7"
      },
      "source": [
        "!pip install dccp"
      ],
      "execution_count": null,
      "outputs": [
        {
          "output_type": "stream",
          "text": [
            "Requirement already satisfied: dccp in /usr/local/lib/python3.6/dist-packages (1.0.3)\n",
            "Requirement already satisfied: cvxpy>=0.3.5 in /usr/local/lib/python3.6/dist-packages (from dccp) (1.0.31)\n",
            "Requirement already satisfied: scipy>=1.1.0 in /usr/local/lib/python3.6/dist-packages (from cvxpy>=0.3.5->dccp) (1.4.1)\n",
            "Requirement already satisfied: multiprocess in /usr/local/lib/python3.6/dist-packages (from cvxpy>=0.3.5->dccp) (0.70.11.1)\n",
            "Requirement already satisfied: ecos>=2 in /usr/local/lib/python3.6/dist-packages (from cvxpy>=0.3.5->dccp) (2.0.7.post1)\n",
            "Requirement already satisfied: scs>=1.1.3 in /usr/local/lib/python3.6/dist-packages (from cvxpy>=0.3.5->dccp) (2.1.2)\n",
            "Requirement already satisfied: osqp>=0.4.1 in /usr/local/lib/python3.6/dist-packages (from cvxpy>=0.3.5->dccp) (0.6.1)\n",
            "Requirement already satisfied: numpy>=1.15 in /usr/local/lib/python3.6/dist-packages (from cvxpy>=0.3.5->dccp) (1.18.5)\n",
            "Requirement already satisfied: dill>=0.3.3 in /usr/local/lib/python3.6/dist-packages (from multiprocess->cvxpy>=0.3.5->dccp) (0.3.3)\n",
            "Requirement already satisfied: future in /usr/local/lib/python3.6/dist-packages (from osqp>=0.4.1->cvxpy>=0.3.5->dccp) (0.16.0)\n"
          ],
          "name": "stdout"
        }
      ]
    },
    {
      "cell_type": "code",
      "metadata": {
        "colab": {
          "base_uri": "https://localhost:8080/"
        },
        "id": "TIcgykOUx8Cz",
        "outputId": "738c075a-0fa7-412a-ac12-2b950565367d"
      },
      "source": [
        "from cvxpy import *\n",
        "\n",
        "import dccp\n",
        "import math\n",
        "import matplotlib.pyplot as plt\n",
        "import numpy as np\n",
        "import pylab\n",
        "import random\n",
        "\n",
        "!nvidia-smi"
      ],
      "execution_count": null,
      "outputs": [
        {
          "output_type": "stream",
          "text": [
            "NVIDIA-SMI has failed because it couldn't communicate with the NVIDIA driver. Make sure that the latest NVIDIA driver is installed and running.\n",
            "\n"
          ],
          "name": "stdout"
        }
      ]
    },
    {
      "cell_type": "markdown",
      "metadata": {
        "id": "EieZk-b-B8jE"
      },
      "source": [
        "# non-overlapping"
      ]
    },
    {
      "cell_type": "markdown",
      "metadata": {
        "id": "4xQBfv1E5FRM"
      },
      "source": [
        "## Two-dimensional"
      ]
    },
    {
      "cell_type": "code",
      "metadata": {
        "colab": {
          "base_uri": "https://localhost:8080/"
        },
        "id": "8UYL7QWA4ezx",
        "outputId": "dd419f18-2445-4343-a67d-6ba8ebf345ef"
      },
      "source": [
        "n = 10\n",
        "r = np.linspace(1, 5, n)\n",
        "c = Variable((n, 2))\n",
        "constraints = []\n",
        "\n",
        "for i in range(n - 1):\n",
        "    for j in range(i + 1, n):\n",
        "        constraints.append(norm(c[i, :] - c[j, :]) >= r[i] + r[j])\n",
        "# print(constraints)\n",
        "\n",
        "myproblem = Problem(Minimize(max(max(abs(c), axis = 1) + r)), constraints)\n",
        "myproblem.solve(method = \"dccp\", ccp_times = 1)\n",
        "print(myproblem.status)"
      ],
      "execution_count": null,
      "outputs": [
        {
          "output_type": "stream",
          "text": [
            "Converged\n"
          ],
          "name": "stdout"
        }
      ]
    },
    {
      "cell_type": "code",
      "metadata": {
        "colab": {
          "base_uri": "https://localhost:8080/"
        },
        "id": "ZUaG0dh86Klz",
        "outputId": "22a6ddb1-8c5b-4f9b-9925-1c290c01e74b"
      },
      "source": [
        "l = max(max(abs(c), axis = 1) + r).value * 2\n",
        "pi = np.pi\n",
        "ratio = pi * sum(square(r)).value / square(l).value\n",
        "print(ratio)"
      ],
      "execution_count": null,
      "outputs": [
        {
          "output_type": "stream",
          "text": [
            "0.7234315786167875\n"
          ],
          "name": "stdout"
        }
      ]
    },
    {
      "cell_type": "code",
      "metadata": {
        "colab": {
          "base_uri": "https://localhost:8080/",
          "height": 374
        },
        "id": "KBbR1oLh9WuM",
        "outputId": "a4ba2b46-3427-43bf-c425-1abf5885be1d"
      },
      "source": [
        "plt.figure(figsize = (5, 5))\n",
        "circ = np.linspace(0, 2 * pi)\n",
        "x_border = [-l/2, l/2, l/2, -l/2, -l/2]\n",
        "y_border = [-l/2, -l/2, l/2, l/2, -l/2]\n",
        "\n",
        "for i in range(n):\n",
        "    plt.plot(c[i, 0].value + r[i] * np.cos(circ), c[i, 1].value + r[i] * np.sin(circ), \"b\")\n",
        "plt.plot(x_border, y_border, \"g\")\n",
        "plt.axes().set_aspect(\"equal\")\n",
        "plt.xlim([-l/2, l/2])\n",
        "plt.ylim([-l/2, l/2])\n",
        "plt.show()"
      ],
      "execution_count": null,
      "outputs": [
        {
          "output_type": "stream",
          "text": [
            "/usr/local/lib/python3.6/dist-packages/ipykernel_launcher.py:9: MatplotlibDeprecationWarning: Adding an axes using the same arguments as a previous axes currently reuses the earlier instance.  In a future version, a new instance will always be created and returned.  Meanwhile, this warning can be suppressed, and the future behavior ensured, by passing a unique label to each axes instance.\n",
            "  if __name__ == '__main__':\n"
          ],
          "name": "stderr"
        },
        {
          "output_type": "display_data",
          "data": {
            "image/png": "[encoded data removed]",
            "text/plain": [
              "<Figure size 360x360 with 1 Axes>"
            ]
          },
          "metadata": {
            "tags": [],
            "needs_background": "light"
          }
        }
      ]
    },
    {
      "cell_type": "markdown",
      "metadata": {
        "id": "4W9N38A0-ZAk"
      },
      "source": [
        "### equal-sized"
      ]
    },
    {
      "cell_type": "code",
      "metadata": {
        "colab": {
          "base_uri": "https://localhost:8080/"
        },
        "id": "kCLwEghl-PUY",
        "outputId": "38e435f1-7626-43ea-9481-c1f44fca8678"
      },
      "source": [
        "n = 10\n",
        "r = [1 for i in range(n)]\n",
        "c = Variable((n, 2))\n",
        "constraints = []\n",
        "\n",
        "for i in range(n - 1):\n",
        "    for j in range(i + 1, n):\n",
        "        constraints.append(norm(c[i, :] - c[j, :]) >= r[i] + r[j])\n",
        "# print(constraints)\n",
        "\n",
        "myproblem = Problem(Minimize(max(max(abs(c), axis = 1) + r)), constraints)\n",
        "myproblem.solve(method = \"dccp\", ccp_times = 1)\n",
        "print(myproblem.status)"
      ],
      "execution_count": null,
      "outputs": [
        {
          "output_type": "stream",
          "text": [
            "Converged\n"
          ],
          "name": "stdout"
        }
      ]
    },
    {
      "cell_type": "code",
      "metadata": {
        "colab": {
          "base_uri": "https://localhost:8080/"
        },
        "id": "1ufL7-8e-v2j",
        "outputId": "daadad18-0f76-4d1a-9efb-611a3df9ed6d"
      },
      "source": [
        "l = max(max(abs(c), axis = 1) + r).value * 2\n",
        "pi = np.pi\n",
        "ratio = pi * sum(square(r)).value / square(l).value\n",
        "print(ratio)"
      ],
      "execution_count": null,
      "outputs": [
        {
          "output_type": "stream",
          "text": [
            "0.6900381811517349\n"
          ],
          "name": "stdout"
        }
      ]
    },
    {
      "cell_type": "code",
      "metadata": {
        "colab": {
          "base_uri": "https://localhost:8080/",
          "height": 374
        },
        "id": "DSiS6S-D_uEQ",
        "outputId": "bf39342f-84b3-4a14-9e0b-5df14a98f562"
      },
      "source": [
        "plt.figure(figsize = (5, 5))\n",
        "circ = np.linspace(0, 2 * pi)\n",
        "x_border = [-l/2, l/2, l/2, -l/2, -l/2]\n",
        "y_border = [-l/2, -l/2, l/2, l/2, -l/2]\n",
        "\n",
        "for i in range(n):\n",
        "    plt.plot(c[i, 0].value + r[i] * np.cos(circ), c[i, 1].value + r[i] * np.sin(circ), \"b\")\n",
        "plt.plot(x_border, y_border, \"g\")\n",
        "plt.axes().set_aspect(\"equal\")\n",
        "plt.xlim([-l/2, l/2])\n",
        "plt.ylim([-l/2, l/2])\n",
        "plt.show()"
      ],
      "execution_count": null,
      "outputs": [
        {
          "output_type": "stream",
          "text": [
            "/usr/local/lib/python3.6/dist-packages/ipykernel_launcher.py:9: MatplotlibDeprecationWarning: Adding an axes using the same arguments as a previous axes currently reuses the earlier instance.  In a future version, a new instance will always be created and returned.  Meanwhile, this warning can be suppressed, and the future behavior ensured, by passing a unique label to each axes instance.\n",
            "  if __name__ == '__main__':\n"
          ],
          "name": "stderr"
        },
        {
          "output_type": "display_data",
          "data": {
            "image/png": "[encoded data removed]",
            "text/plain": [
              "<Figure size 360x360 with 1 Axes>"
            ]
          },
          "metadata": {
            "tags": [],
            "needs_background": "light"
          }
        }
      ]
    },
    {
      "cell_type": "markdown",
      "metadata": {
        "id": "2feKlj9vAEUB"
      },
      "source": [
        "## Three-dimensional"
      ]
    },
    {
      "cell_type": "code",
      "metadata": {
        "id": "eK5WPGV__xiq"
      },
      "source": [
        ""
      ],
      "execution_count": null,
      "outputs": []
    }
  ]
}